{
 "cells": [
  {
   "cell_type": "markdown",
   "id": "0efc4a39",
   "metadata": {},
   "source": [
    "# Dữ liệu về các loại rừng, quản lý và điều hành rừng ở Việt Nam\n",
    "\n",
    "Link dataset: https://data.vietnam.opendevelopmentmekong.net/en/dataset/redd_vn?fbclid=IwAR1QWPyxIXQgcLh3vOQknLhcKGwhU0ErCHQQB14ojzBugM-F14kwezJRJnE\n",
    "\n",
    "Về giấy phép sử dụng, dataset không có limitations trong việc sử dụng, ở mục giấy phép cũng ghi là không có giấy phép, tuy nhiên rằng ở mục \"Copyrights\" thì có ghi là yes. Vì vậy cần phải để credit của dataset!!\n",
    "\n",
    "***Mọi dữ liệu ở trong bài đồ án lần này đều thuộc về OpenDevelopment Vietnam cung cấp, tất cả các nghiên cứu, đánh giá, phân tích ở trong bài này đều mang tính chất phục vụ cho mục đích học tập.***\n",
    "\n",
    "***Data from this dataset is provided by OpenDevelopment Vietnam. All of the records in researchs, analysis are all for studying purpose***\n"
   ]
  },
  {
   "cell_type": "markdown",
   "id": "b91b6501",
   "metadata": {},
   "source": [
    "## Import những thư viện cần thiết"
   ]
  },
  {
   "cell_type": "code",
   "execution_count": 1,
   "id": "ec747dcc",
   "metadata": {},
   "outputs": [],
   "source": [
    "import pandas as pd\n",
    "import matplotlib.pyplot as plt\n",
    "import numpy as np\n",
    "import seaborn as sns\n",
    "sns.set_theme()"
   ]
  },
  {
   "cell_type": "markdown",
   "id": "0f621964",
   "metadata": {},
   "source": [
    "## Đọc dữ liệu từ file .csv lên"
   ]
  },
  {
   "cell_type": "code",
   "execution_count": 2,
   "id": "2acba052",
   "metadata": {},
   "outputs": [
    {
     "data": {
      "text/html": [
       "<div>\n",
       "<style scoped>\n",
       "    .dataframe tbody tr th:only-of-type {\n",
       "        vertical-align: middle;\n",
       "    }\n",
       "\n",
       "    .dataframe tbody tr th {\n",
       "        vertical-align: top;\n",
       "    }\n",
       "\n",
       "    .dataframe thead th {\n",
       "        text-align: right;\n",
       "    }\n",
       "</style>\n",
       "<table border=\"1\" class=\"dataframe\">\n",
       "  <thead>\n",
       "    <tr style=\"text-align: right;\">\n",
       "      <th></th>\n",
       "      <th>ID</th>\n",
       "      <th>Latitude</th>\n",
       "      <th>Longtitude</th>\n",
       "      <th>Province</th>\n",
       "      <th>District</th>\n",
       "      <th>Commune</th>\n",
       "      <th>Sub-regional</th>\n",
       "      <th>Plot</th>\n",
       "      <th>Lot</th>\n",
       "      <th>Site</th>\n",
       "      <th>Forest owner</th>\n",
       "      <th>Land type</th>\n",
       "      <th>Original resources of forest</th>\n",
       "      <th>Date</th>\n",
       "      <th>Priority</th>\n",
       "      <th>Contractor</th>\n",
       "      <th>Status</th>\n",
       "    </tr>\n",
       "  </thead>\n",
       "  <tbody>\n",
       "    <tr>\n",
       "      <th>0</th>\n",
       "      <td>1.0</td>\n",
       "      <td>11.5169</td>\n",
       "      <td>108.272668</td>\n",
       "      <td>Lam Dong</td>\n",
       "      <td>Di Linh</td>\n",
       "      <td>Tam Bo</td>\n",
       "      <td>678</td>\n",
       "      <td>3.0</td>\n",
       "      <td>26.0</td>\n",
       "      <td>Tam Bo</td>\n",
       "      <td>Trần Ngọc Thế</td>\n",
       "      <td>Medium coniferous natural forest</td>\n",
       "      <td>Natural forest</td>\n",
       "      <td>1/1/2018 0:00</td>\n",
       "      <td>High</td>\n",
       "      <td>NaN</td>\n",
       "      <td>Verified</td>\n",
       "    </tr>\n",
       "    <tr>\n",
       "      <th>1</th>\n",
       "      <td>2.0</td>\n",
       "      <td>11.4464</td>\n",
       "      <td>108.062816</td>\n",
       "      <td>Lam Dong</td>\n",
       "      <td>Di Linh</td>\n",
       "      <td>Gung Re</td>\n",
       "      <td>695</td>\n",
       "      <td>5.0</td>\n",
       "      <td>1.0</td>\n",
       "      <td>Gung Re village</td>\n",
       "      <td>Forestry One Member Limited Liability Company ...</td>\n",
       "      <td>Medium coniferous natural forest</td>\n",
       "      <td>Natural forest</td>\n",
       "      <td>1/1/2018 0:00</td>\n",
       "      <td>High</td>\n",
       "      <td>K' BRim (Gaoh)</td>\n",
       "      <td>Verified</td>\n",
       "    </tr>\n",
       "    <tr>\n",
       "      <th>2</th>\n",
       "      <td>3.0</td>\n",
       "      <td>11.4462</td>\n",
       "      <td>108.062886</td>\n",
       "      <td>Lam Dong</td>\n",
       "      <td>Di Linh</td>\n",
       "      <td>Gung Re</td>\n",
       "      <td>695</td>\n",
       "      <td>5.0</td>\n",
       "      <td>3.0</td>\n",
       "      <td>Gung Re village</td>\n",
       "      <td>Forestry One Member Limited Liability Company ...</td>\n",
       "      <td>Natural wood forest in the mountains with medi...</td>\n",
       "      <td>Natural forest</td>\n",
       "      <td>1/1/2018 0:00</td>\n",
       "      <td>High</td>\n",
       "      <td>K' BRim (Gaoh)</td>\n",
       "      <td>Verified</td>\n",
       "    </tr>\n",
       "    <tr>\n",
       "      <th>3</th>\n",
       "      <td>4.0</td>\n",
       "      <td>11.8010</td>\n",
       "      <td>107.937944</td>\n",
       "      <td>Lam Dong</td>\n",
       "      <td>Di Linh</td>\n",
       "      <td>Dinh Trang Thuong</td>\n",
       "      <td>607</td>\n",
       "      <td>3.0</td>\n",
       "      <td>8.0</td>\n",
       "      <td>Dinh Trang Thuong</td>\n",
       "      <td>Board of protection forest management Tan Thuong</td>\n",
       "      <td>Empty land with regenerated wood trees</td>\n",
       "      <td>Natural forest</td>\n",
       "      <td>1/13/2018 0:00</td>\n",
       "      <td>Low</td>\n",
       "      <td>NaN</td>\n",
       "      <td>Not Verified</td>\n",
       "    </tr>\n",
       "    <tr>\n",
       "      <th>4</th>\n",
       "      <td>5.0</td>\n",
       "      <td>11.4814</td>\n",
       "      <td>108.010331</td>\n",
       "      <td>Lam Dong</td>\n",
       "      <td>Di Linh</td>\n",
       "      <td>Lien Dam</td>\n",
       "      <td>660B</td>\n",
       "      <td>7.0</td>\n",
       "      <td>43.0</td>\n",
       "      <td>Lien Dam</td>\n",
       "      <td>Group Joint Stock Company Tan Mai</td>\n",
       "      <td>Other plantation forest</td>\n",
       "      <td>Plantation forest</td>\n",
       "      <td>1/13/2018 0:00</td>\n",
       "      <td>Low</td>\n",
       "      <td>NaN</td>\n",
       "      <td>Not Verified</td>\n",
       "    </tr>\n",
       "    <tr>\n",
       "      <th>5</th>\n",
       "      <td>6.0</td>\n",
       "      <td>11.4464</td>\n",
       "      <td>108.062847</td>\n",
       "      <td>Lam Dong</td>\n",
       "      <td>Di Linh</td>\n",
       "      <td>Gung Re</td>\n",
       "      <td>695</td>\n",
       "      <td>5.0</td>\n",
       "      <td>1.0</td>\n",
       "      <td>Gung Re village</td>\n",
       "      <td>Forestry One Member Limited Liability Company ...</td>\n",
       "      <td>Medium coniferous natural forest</td>\n",
       "      <td>Natural forest</td>\n",
       "      <td>1/13/2018 0:00</td>\n",
       "      <td>High</td>\n",
       "      <td>K' BRim (Gaoh)</td>\n",
       "      <td>Not Verified</td>\n",
       "    </tr>\n",
       "    <tr>\n",
       "      <th>6</th>\n",
       "      <td>7.0</td>\n",
       "      <td>11.3271</td>\n",
       "      <td>108.091448</td>\n",
       "      <td>Lam Dong</td>\n",
       "      <td>Di Linh</td>\n",
       "      <td>Gia Bac</td>\n",
       "      <td>736</td>\n",
       "      <td>6.0</td>\n",
       "      <td>7.0</td>\n",
       "      <td>Gia Bac village</td>\n",
       "      <td>Forestry One Member Limited Liability Company ...</td>\n",
       "      <td>Mixed natural bamboo forest</td>\n",
       "      <td>Natural forest</td>\n",
       "      <td>1/13/2018 0:00</td>\n",
       "      <td>High</td>\n",
       "      <td>K' Lít</td>\n",
       "      <td>Not Verified</td>\n",
       "    </tr>\n",
       "    <tr>\n",
       "      <th>7</th>\n",
       "      <td>8.0</td>\n",
       "      <td>11.4203</td>\n",
       "      <td>108.057927</td>\n",
       "      <td>Lam Dong</td>\n",
       "      <td>Di Linh</td>\n",
       "      <td>Gung Re</td>\n",
       "      <td>709A</td>\n",
       "      <td>2.0</td>\n",
       "      <td>8.0</td>\n",
       "      <td>Gung Re village</td>\n",
       "      <td>Forestry One Member Limited Liability Company ...</td>\n",
       "      <td>Poor evergreen broad-leaved natural forest</td>\n",
       "      <td>Natural forest</td>\n",
       "      <td>1/25/2018 0:00</td>\n",
       "      <td>Low</td>\n",
       "      <td>K' BRªu (M«)</td>\n",
       "      <td>Not Verified</td>\n",
       "    </tr>\n",
       "    <tr>\n",
       "      <th>8</th>\n",
       "      <td>9.0</td>\n",
       "      <td>11.2926</td>\n",
       "      <td>108.055201</td>\n",
       "      <td>Lam Dong</td>\n",
       "      <td>Di Linh</td>\n",
       "      <td>Gia Bac</td>\n",
       "      <td>735</td>\n",
       "      <td>4.0</td>\n",
       "      <td>8.0</td>\n",
       "      <td>Gia Bac</td>\n",
       "      <td>Community of  Da Hong village</td>\n",
       "      <td>Mixed natural bamboo forest</td>\n",
       "      <td>Natural forest</td>\n",
       "      <td>1/25/2018 0:00</td>\n",
       "      <td>Medium</td>\n",
       "      <td>NaN</td>\n",
       "      <td>Not Verified</td>\n",
       "    </tr>\n",
       "    <tr>\n",
       "      <th>9</th>\n",
       "      <td>10.0</td>\n",
       "      <td>11.5014</td>\n",
       "      <td>108.160709</td>\n",
       "      <td>Lam Dong</td>\n",
       "      <td>Di Linh</td>\n",
       "      <td>Bao Thuan</td>\n",
       "      <td>674</td>\n",
       "      <td>6.0</td>\n",
       "      <td>4.0</td>\n",
       "      <td>Bao Thuan</td>\n",
       "      <td>Forestry One Member Limited Liability Company ...</td>\n",
       "      <td>Poor coniferous natural forest</td>\n",
       "      <td>Natural forest</td>\n",
       "      <td>2/18/2018 0:00</td>\n",
       "      <td>Medium</td>\n",
       "      <td>K' Brim</td>\n",
       "      <td>Not Verified</td>\n",
       "    </tr>\n",
       "  </tbody>\n",
       "</table>\n",
       "</div>"
      ],
      "text/plain": [
       "     ID  Latitude  Longtitude  Province District            Commune  \\\n",
       "0   1.0   11.5169  108.272668  Lam Dong  Di Linh             Tam Bo   \n",
       "1   2.0   11.4464  108.062816  Lam Dong  Di Linh            Gung Re   \n",
       "2   3.0   11.4462  108.062886  Lam Dong  Di Linh            Gung Re   \n",
       "3   4.0   11.8010  107.937944  Lam Dong  Di Linh  Dinh Trang Thuong   \n",
       "4   5.0   11.4814  108.010331  Lam Dong  Di Linh           Lien Dam   \n",
       "5   6.0   11.4464  108.062847  Lam Dong  Di Linh            Gung Re   \n",
       "6   7.0   11.3271  108.091448  Lam Dong  Di Linh            Gia Bac   \n",
       "7   8.0   11.4203  108.057927  Lam Dong  Di Linh            Gung Re   \n",
       "8   9.0   11.2926  108.055201  Lam Dong  Di Linh            Gia Bac   \n",
       "9  10.0   11.5014  108.160709  Lam Dong  Di Linh          Bao Thuan   \n",
       "\n",
       "  Sub-regional  Plot   Lot               Site  \\\n",
       "0          678   3.0  26.0             Tam Bo   \n",
       "1          695   5.0   1.0    Gung Re village   \n",
       "2          695   5.0   3.0    Gung Re village   \n",
       "3          607   3.0   8.0  Dinh Trang Thuong   \n",
       "4         660B   7.0  43.0           Lien Dam   \n",
       "5          695   5.0   1.0    Gung Re village   \n",
       "6          736   6.0   7.0    Gia Bac village   \n",
       "7         709A   2.0   8.0    Gung Re village   \n",
       "8          735   4.0   8.0            Gia Bac   \n",
       "9          674   6.0   4.0          Bao Thuan   \n",
       "\n",
       "                                        Forest owner  \\\n",
       "0                                      Trần Ngọc Thế   \n",
       "1  Forestry One Member Limited Liability Company ...   \n",
       "2  Forestry One Member Limited Liability Company ...   \n",
       "3   Board of protection forest management Tan Thuong   \n",
       "4                  Group Joint Stock Company Tan Mai   \n",
       "5  Forestry One Member Limited Liability Company ...   \n",
       "6  Forestry One Member Limited Liability Company ...   \n",
       "7  Forestry One Member Limited Liability Company ...   \n",
       "8                      Community of  Da Hong village   \n",
       "9  Forestry One Member Limited Liability Company ...   \n",
       "\n",
       "                                           Land type  \\\n",
       "0                   Medium coniferous natural forest   \n",
       "1                   Medium coniferous natural forest   \n",
       "2  Natural wood forest in the mountains with medi...   \n",
       "3             Empty land with regenerated wood trees   \n",
       "4                            Other plantation forest   \n",
       "5                   Medium coniferous natural forest   \n",
       "6                        Mixed natural bamboo forest   \n",
       "7         Poor evergreen broad-leaved natural forest   \n",
       "8                        Mixed natural bamboo forest   \n",
       "9                     Poor coniferous natural forest   \n",
       "\n",
       "  Original resources of forest            Date Priority      Contractor  \\\n",
       "0               Natural forest   1/1/2018 0:00     High             NaN   \n",
       "1               Natural forest   1/1/2018 0:00     High  K' BRim (Gaoh)   \n",
       "2               Natural forest   1/1/2018 0:00     High  K' BRim (Gaoh)   \n",
       "3               Natural forest  1/13/2018 0:00      Low             NaN   \n",
       "4            Plantation forest  1/13/2018 0:00      Low             NaN   \n",
       "5               Natural forest  1/13/2018 0:00     High  K' BRim (Gaoh)   \n",
       "6               Natural forest  1/13/2018 0:00     High          K' Lít   \n",
       "7               Natural forest  1/25/2018 0:00      Low    K' BRªu (M«)   \n",
       "8               Natural forest  1/25/2018 0:00   Medium             NaN   \n",
       "9               Natural forest  2/18/2018 0:00   Medium         K' Brim   \n",
       "\n",
       "         Status  \n",
       "0      Verified  \n",
       "1      Verified  \n",
       "2      Verified  \n",
       "3  Not Verified  \n",
       "4  Not Verified  \n",
       "5  Not Verified  \n",
       "6  Not Verified  \n",
       "7  Not Verified  \n",
       "8  Not Verified  \n",
       "9  Not Verified  "
      ]
     },
     "execution_count": 2,
     "metadata": {},
     "output_type": "execute_result"
    }
   ],
   "source": [
    "forest_df = pd.read_csv(\"redd_plus_en.csv\")\n",
    "forest_df.head(10)"
   ]
  },
  {
   "cell_type": "markdown",
   "id": "109e1949",
   "metadata": {},
   "source": [
    "## Khám phá dữ liệu\n",
    "\n",
    "### Dữ liệu có bao nhiêu dòng và bao nhiêu cột ?"
   ]
  },
  {
   "cell_type": "code",
   "execution_count": 3,
   "id": "de022630",
   "metadata": {},
   "outputs": [
    {
     "name": "stdout",
     "output_type": "stream",
     "text": [
      "17 19545\n"
     ]
    }
   ],
   "source": [
    "def countCols(df):\n",
    "    result = len(df.axes[1])\n",
    "    return result\n",
    "\n",
    "def countRows(df):\n",
    "    result = len(df.axes[0])\n",
    "    return result\n",
    "\n",
    "num_cols = countCols(forest_df)\n",
    "num_rows = countRows(forest_df)\n",
    "\n",
    "print(num_cols,num_rows)"
   ]
  },
  {
   "cell_type": "markdown",
   "id": "5b87ff23",
   "metadata": {},
   "source": [
    "### Trong các cột của dữ liệu thì các cột mang ý nghĩa gì ?"
   ]
  },
  {
   "cell_type": "code",
   "execution_count": 4,
   "id": "04a9216a",
   "metadata": {},
   "outputs": [
    {
     "data": {
      "text/plain": [
       "array(['ID', 'Latitude', 'Longtitude', 'Province', 'District', 'Commune',\n",
       "       'Sub-regional', 'Plot', 'Lot', 'Site', 'Forest owner', 'Land type',\n",
       "       'Original resources of forest', 'Date', 'Priority', 'Contractor',\n",
       "       'Status'], dtype=object)"
      ]
     },
     "execution_count": 4,
     "metadata": {},
     "output_type": "execute_result"
    }
   ],
   "source": [
    "forest_cols_name = forest_df.columns.values\n",
    "forest_cols_name"
   ]
  },
  {
   "cell_type": "markdown",
   "id": "497225ba",
   "metadata": {},
   "source": [
    "### Kiểu dữ liệu của các cột lần lượt là gì ?"
   ]
  },
  {
   "cell_type": "code",
   "execution_count": 5,
   "id": "f34cf374",
   "metadata": {},
   "outputs": [
    {
     "data": {
      "text/plain": [
       "ID                              float64\n",
       "Latitude                        float64\n",
       "Longtitude                      float64\n",
       "Province                         object\n",
       "District                         object\n",
       "Commune                          object\n",
       "Sub-regional                     object\n",
       "Plot                            float64\n",
       "Lot                             float64\n",
       "Site                             object\n",
       "Forest owner                     object\n",
       "Land type                        object\n",
       "Original resources of forest     object\n",
       "Date                             object\n",
       "Priority                         object\n",
       "Contractor                       object\n",
       "Status                           object\n",
       "dtype: object"
      ]
     },
     "execution_count": 5,
     "metadata": {},
     "output_type": "execute_result"
    }
   ],
   "source": [
    "cols_name = list(forest_df.columns.values)\n",
    "cols_dtype = pd.Series(forest_df[cols_name].dtypes)\n",
    "cols_dtype"
   ]
  },
  {
   "cell_type": "markdown",
   "id": "891a1ad3",
   "metadata": {},
   "source": [
    "### Các kiểu dữ liệu dạng object thì có dữ liệu cụ thể là gì ?"
   ]
  },
  {
   "cell_type": "code",
   "execution_count": 6,
   "id": "8961b0f8",
   "metadata": {},
   "outputs": [
    {
     "data": {
      "text/plain": [
       "{'Province': {str},\n",
       " 'District': {str},\n",
       " 'Commune': {float, str},\n",
       " 'Sub-regional': {float, str},\n",
       " 'Site': {float, str},\n",
       " 'Forest owner': {float, str},\n",
       " 'Land type': {float, str},\n",
       " 'Original resources of forest': {str},\n",
       " 'Date': {float, str},\n",
       " 'Priority': {str},\n",
       " 'Contractor': {float, str},\n",
       " 'Status': {str}}"
      ]
     },
     "execution_count": 6,
     "metadata": {},
     "output_type": "execute_result"
    }
   ],
   "source": [
    "def open_object_dtype(s):\n",
    "    dtypes = set()\n",
    "    \n",
    "    #Ta sẽ append lần lượt các type của từng s[i] vào trong set\n",
    "    ##Thì chắc chắn rằng bên trong dtypes sẽ chỉ có một kiểu duy nhất, cho nên rằng set này chỉ chứa 1 phần tử\n",
    "    \n",
    "    ##Chúng ta lấy ra một series dùng apply với hàm type lên tất cả các s[i]\n",
    "    object_series = s.apply(type)\n",
    "    \n",
    "    ##Sau đó dùng chính hàm dtypes.add để apply vô series object_series vừa xử lý xong\n",
    "    object_series.apply(dtypes.add)\n",
    "    return dtypes\n",
    "\n",
    "##Vì trong danh sách các cột, số lượng object khá nhiều cho nên rằng chúng ta sẽ loop qua các danh sách\n",
    "cols_type_dict = {}\n",
    "for col_name in cols_name:\n",
    "    if forest_df[col_name].dtype == 'object':\n",
    "        cols_type_dict[col_name] = open_object_dtype(forest_df[col_name])\n",
    "        \n",
    "cols_type_dict"
   ]
  },
  {
   "cell_type": "markdown",
   "id": "339bd811",
   "metadata": {},
   "source": [
    "### Nhận xét về kiểu dữ liệu các cột dạng object\n",
    "\n",
    "Ta thấy được rằng, ở đây chúng ta có một số kiểu dữ liệu khá kỳ lạ ,ví dụ như cột \"Sub-regional\", \"Site\", \"Forest Owner\", \"Land type\", \"Date\", \"Contractor\" đều có chỗ thì mang kiểu dữ liệu là \"String\", có chỗ thì mang kiểu dữ liệu là \"Float\", Đây là những vấn đề mà chúng ta cần lưu ý trong bước tiền xử lý dữ liệu"
   ]
  },
  {
   "cell_type": "code",
   "execution_count": 7,
   "id": "7c1d092d",
   "metadata": {},
   "outputs": [
    {
     "data": {
      "text/plain": [
       "True"
      ]
     },
     "execution_count": 7,
     "metadata": {},
     "output_type": "execute_result"
    }
   ],
   "source": [
    "temp = np.array(forest_df.duplicated())\n",
    "\n",
    "##Check xem có tồn tại phần tử nào là True hay không, nếu không có bất kỳ một phần tử nào là true thì trả về False\n",
    "have_duplicated_rows = np.any(temp)\n",
    "\n",
    "\n",
    "have_duplicated_rows"
   ]
  },
  {
   "cell_type": "markdown",
   "id": "9c6aef87",
   "metadata": {},
   "source": [
    "Hmmmm... Bộ dữ liệu này có sự trùng lắp, vì vậy ở phần tiền xử lý dữ liệu chúng ta cần phải xử lý việc trùng lắp này"
   ]
  },
  {
   "cell_type": "markdown",
   "id": "caa1e113",
   "metadata": {},
   "source": [
    "### Mỗi cột thì sẽ mang ý nghĩa như thế nào ?\n",
    "\n",
    "Trước khi chúng ta bước vô phần xử lý dữ liệu, ta cần phải tìm hiểu dữ liệu cụ thể của các cột có ý nghĩa như thế nào: \n",
    "\n",
    "- ID: ID của vùng đất\n",
    "\n",
    "- Latitude: Kinh độ\n",
    "\n",
    "- Longtitude: Vĩ độ\n",
    "\n",
    "- Province: Tỉnh thành\n",
    "\n",
    "- District: Huyện\n",
    "\n",
    "- Commune: Xã\n",
    "\n",
    "- Sub-regional: Tiểu khu\n",
    "\n",
    "- Plot : Khoảnh\n",
    "\n",
    "- Lot: Lộ\n",
    "\n",
    "- Site: Địa danh\n",
    "\n",
    "- Forest owner: Chủ rừng\n",
    "\n",
    "- Land type: Loạt đất/Loại rừng\n",
    "\n",
    "- Original resources of forest: Nguồn gốc\n",
    "\n",
    "- Date: Ngày\n",
    "\n",
    "- Priority: Độ ưu tiên\n",
    "\n",
    "- Contractor: Người nhận khoán\n",
    "\n",
    "- Status: Trạng thái kiểm tra thực địa\n"
   ]
  },
  {
   "cell_type": "markdown",
   "id": "5efa0b42",
   "metadata": {},
   "source": [
    "Chúng ta sẽ chia các cột ra thành 2 loại kiểu dữ liệu là Numercial và Categorical\n",
    "\n",
    "**Numercial:** Latitude, Longtitude, Date, Priority, Status ( True/ False)\n",
    "\n",
    "**Categorical:** ID, Province, District, Commune, Sub-regional, Plot, Lot, Site, Forest Owner, Land type, Original Resources of Forest, Contractor\n",
    "\n",
    "## Tiền xử lý dữ liệu #1\n",
    "\n",
    "### Chuyển cột ID về dạng số nguyên thay vì là float64\n"
   ]
  },
  {
   "cell_type": "code",
   "execution_count": 8,
   "id": "a762dfdb",
   "metadata": {},
   "outputs": [
    {
     "data": {
      "text/html": [
       "<div>\n",
       "<style scoped>\n",
       "    .dataframe tbody tr th:only-of-type {\n",
       "        vertical-align: middle;\n",
       "    }\n",
       "\n",
       "    .dataframe tbody tr th {\n",
       "        vertical-align: top;\n",
       "    }\n",
       "\n",
       "    .dataframe thead th {\n",
       "        text-align: right;\n",
       "    }\n",
       "</style>\n",
       "<table border=\"1\" class=\"dataframe\">\n",
       "  <thead>\n",
       "    <tr style=\"text-align: right;\">\n",
       "      <th></th>\n",
       "      <th>ID</th>\n",
       "      <th>Latitude</th>\n",
       "      <th>Longtitude</th>\n",
       "      <th>Province</th>\n",
       "      <th>District</th>\n",
       "      <th>Commune</th>\n",
       "      <th>Sub-regional</th>\n",
       "      <th>Plot</th>\n",
       "      <th>Lot</th>\n",
       "      <th>Site</th>\n",
       "      <th>Forest owner</th>\n",
       "      <th>Land type</th>\n",
       "      <th>Original resources of forest</th>\n",
       "      <th>Date</th>\n",
       "      <th>Priority</th>\n",
       "      <th>Contractor</th>\n",
       "      <th>Status</th>\n",
       "    </tr>\n",
       "  </thead>\n",
       "  <tbody>\n",
       "    <tr>\n",
       "      <th>0</th>\n",
       "      <td>1</td>\n",
       "      <td>11.5169</td>\n",
       "      <td>108.272668</td>\n",
       "      <td>Lam Dong</td>\n",
       "      <td>Di Linh</td>\n",
       "      <td>Tam Bo</td>\n",
       "      <td>678</td>\n",
       "      <td>3.0</td>\n",
       "      <td>26.0</td>\n",
       "      <td>Tam Bo</td>\n",
       "      <td>Trần Ngọc Thế</td>\n",
       "      <td>Medium coniferous natural forest</td>\n",
       "      <td>Natural forest</td>\n",
       "      <td>1/1/2018 0:00</td>\n",
       "      <td>High</td>\n",
       "      <td>NaN</td>\n",
       "      <td>Verified</td>\n",
       "    </tr>\n",
       "    <tr>\n",
       "      <th>1</th>\n",
       "      <td>2</td>\n",
       "      <td>11.4464</td>\n",
       "      <td>108.062816</td>\n",
       "      <td>Lam Dong</td>\n",
       "      <td>Di Linh</td>\n",
       "      <td>Gung Re</td>\n",
       "      <td>695</td>\n",
       "      <td>5.0</td>\n",
       "      <td>1.0</td>\n",
       "      <td>Gung Re village</td>\n",
       "      <td>Forestry One Member Limited Liability Company ...</td>\n",
       "      <td>Medium coniferous natural forest</td>\n",
       "      <td>Natural forest</td>\n",
       "      <td>1/1/2018 0:00</td>\n",
       "      <td>High</td>\n",
       "      <td>K' BRim (Gaoh)</td>\n",
       "      <td>Verified</td>\n",
       "    </tr>\n",
       "  </tbody>\n",
       "</table>\n",
       "</div>"
      ],
      "text/plain": [
       "   ID  Latitude  Longtitude  Province District  Commune Sub-regional  Plot  \\\n",
       "0   1   11.5169  108.272668  Lam Dong  Di Linh   Tam Bo          678   3.0   \n",
       "1   2   11.4464  108.062816  Lam Dong  Di Linh  Gung Re          695   5.0   \n",
       "\n",
       "    Lot             Site                                       Forest owner  \\\n",
       "0  26.0           Tam Bo                                      Trần Ngọc Thế   \n",
       "1   1.0  Gung Re village  Forestry One Member Limited Liability Company ...   \n",
       "\n",
       "                          Land type Original resources of forest  \\\n",
       "0  Medium coniferous natural forest               Natural forest   \n",
       "1  Medium coniferous natural forest               Natural forest   \n",
       "\n",
       "            Date Priority      Contractor    Status  \n",
       "0  1/1/2018 0:00     High             NaN  Verified  \n",
       "1  1/1/2018 0:00     High  K' BRim (Gaoh)  Verified  "
      ]
     },
     "execution_count": 8,
     "metadata": {},
     "output_type": "execute_result"
    }
   ],
   "source": [
    "id_list = np.array(forest_df['ID'])\n",
    "id_list = id_list.astype(np.int64)\n",
    "\n",
    "forest_df['ID'] = id_list\n",
    "forest_df.head(2)"
   ]
  },
  {
   "cell_type": "markdown",
   "id": "af928c24",
   "metadata": {},
   "source": [
    "### Lọc các dòng dữ liệu bị trùng\n",
    "\n",
    "Như đã đặt câu hỏi ở trên, dữ liệu hiện tại đang bị trùng lặp, vì thế chúng ta cần phải lọc các dòng dữ liệu bị trùng này\n"
   ]
  },
  {
   "cell_type": "code",
   "execution_count": 9,
   "id": "1a5d1ad9",
   "metadata": {},
   "outputs": [
    {
     "data": {
      "text/plain": [
       "False"
      ]
     },
     "execution_count": 9,
     "metadata": {},
     "output_type": "execute_result"
    }
   ],
   "source": [
    "forest_df = forest_df.drop_duplicates()\n",
    "\n",
    "##Kiểm tra trùng lặp một lần nữa\n",
    "temp = np.array(forest_df.duplicated())\n",
    "have_duplicated_rows = np.any(temp)\n",
    "have_duplicated_rows"
   ]
  },
  {
   "cell_type": "markdown",
   "id": "811656ff",
   "metadata": {},
   "source": [
    "**Vậy là ta đã lọc được những dòng bị trùng ra khỏi DataFrame**"
   ]
  },
  {
   "cell_type": "markdown",
   "id": "069ce02f",
   "metadata": {},
   "source": [
    "## Chuẩn hóa lại một số dữ liệu\n",
    "\n",
    "Như ta đã thấy, một số dạng dữ liệu Numercial hiện tại đang không ở dạng chuẩn, vì thế ta cần chuẩn hóa lại một số dữ liệu:\n",
    "- Date sẽ cần chuyển về dạng datetime\n",
    "- Priority sẽ cần ánh xạ lại từ string về một con số hợp lý\n",
    "- Status sẽ cần ánh xạ lại từ string về một con số hợp lý\n",
    "\n",
    "### Chuẩn hóa lại cột Priority\n",
    "\n",
    "Trước khi chuẩn hóa, ta cần tìm hiểu cụ thể cột Priority cụ thể gồm những giá trị gì ?\n"
   ]
  },
  {
   "cell_type": "code",
   "execution_count": 10,
   "id": "0f415d38",
   "metadata": {},
   "outputs": [
    {
     "data": {
      "text/plain": [
       "array(['High', 'Low', 'Medium'], dtype=object)"
      ]
     },
     "execution_count": 10,
     "metadata": {},
     "output_type": "execute_result"
    }
   ],
   "source": [
    "priority_series = forest_df['Priority']\n",
    "priority_series.unique()"
   ]
  },
  {
   "cell_type": "markdown",
   "id": "fcebed5a",
   "metadata": {},
   "source": [
    "Vậy là các giá trị trong cột Priority lần lượt là **High, Low, Medium**. Chúng ta có thể ánh xạ lần lượt các giá trị này về một con số nguyên:\n",
    "- Low -> 0\n",
    "- Medium -> 1\n",
    "- High -> 2\n",
    "\n",
    "Khi mà đã có được ánh xạ tương ứng, ta sẽ bắt đầu thực hiện việc chuẩn hóa"
   ]
  },
  {
   "cell_type": "code",
   "execution_count": 11,
   "id": "9be3baa2",
   "metadata": {},
   "outputs": [
    {
     "data": {
      "text/html": [
       "<div>\n",
       "<style scoped>\n",
       "    .dataframe tbody tr th:only-of-type {\n",
       "        vertical-align: middle;\n",
       "    }\n",
       "\n",
       "    .dataframe tbody tr th {\n",
       "        vertical-align: top;\n",
       "    }\n",
       "\n",
       "    .dataframe thead th {\n",
       "        text-align: right;\n",
       "    }\n",
       "</style>\n",
       "<table border=\"1\" class=\"dataframe\">\n",
       "  <thead>\n",
       "    <tr style=\"text-align: right;\">\n",
       "      <th></th>\n",
       "      <th>ID</th>\n",
       "      <th>Latitude</th>\n",
       "      <th>Longtitude</th>\n",
       "      <th>Province</th>\n",
       "      <th>District</th>\n",
       "      <th>Commune</th>\n",
       "      <th>Sub-regional</th>\n",
       "      <th>Plot</th>\n",
       "      <th>Lot</th>\n",
       "      <th>Site</th>\n",
       "      <th>Forest owner</th>\n",
       "      <th>Land type</th>\n",
       "      <th>Original resources of forest</th>\n",
       "      <th>Date</th>\n",
       "      <th>Priority</th>\n",
       "      <th>Contractor</th>\n",
       "      <th>Status</th>\n",
       "    </tr>\n",
       "  </thead>\n",
       "  <tbody>\n",
       "    <tr>\n",
       "      <th>0</th>\n",
       "      <td>1</td>\n",
       "      <td>11.5169</td>\n",
       "      <td>108.272668</td>\n",
       "      <td>Lam Dong</td>\n",
       "      <td>Di Linh</td>\n",
       "      <td>Tam Bo</td>\n",
       "      <td>678</td>\n",
       "      <td>3.0</td>\n",
       "      <td>26.0</td>\n",
       "      <td>Tam Bo</td>\n",
       "      <td>Trần Ngọc Thế</td>\n",
       "      <td>Medium coniferous natural forest</td>\n",
       "      <td>Natural forest</td>\n",
       "      <td>1/1/2018 0:00</td>\n",
       "      <td>2</td>\n",
       "      <td>NaN</td>\n",
       "      <td>Verified</td>\n",
       "    </tr>\n",
       "    <tr>\n",
       "      <th>1</th>\n",
       "      <td>2</td>\n",
       "      <td>11.4464</td>\n",
       "      <td>108.062816</td>\n",
       "      <td>Lam Dong</td>\n",
       "      <td>Di Linh</td>\n",
       "      <td>Gung Re</td>\n",
       "      <td>695</td>\n",
       "      <td>5.0</td>\n",
       "      <td>1.0</td>\n",
       "      <td>Gung Re village</td>\n",
       "      <td>Forestry One Member Limited Liability Company ...</td>\n",
       "      <td>Medium coniferous natural forest</td>\n",
       "      <td>Natural forest</td>\n",
       "      <td>1/1/2018 0:00</td>\n",
       "      <td>2</td>\n",
       "      <td>K' BRim (Gaoh)</td>\n",
       "      <td>Verified</td>\n",
       "    </tr>\n",
       "    <tr>\n",
       "      <th>2</th>\n",
       "      <td>3</td>\n",
       "      <td>11.4462</td>\n",
       "      <td>108.062886</td>\n",
       "      <td>Lam Dong</td>\n",
       "      <td>Di Linh</td>\n",
       "      <td>Gung Re</td>\n",
       "      <td>695</td>\n",
       "      <td>5.0</td>\n",
       "      <td>3.0</td>\n",
       "      <td>Gung Re village</td>\n",
       "      <td>Forestry One Member Limited Liability Company ...</td>\n",
       "      <td>Natural wood forest in the mountains with medi...</td>\n",
       "      <td>Natural forest</td>\n",
       "      <td>1/1/2018 0:00</td>\n",
       "      <td>2</td>\n",
       "      <td>K' BRim (Gaoh)</td>\n",
       "      <td>Verified</td>\n",
       "    </tr>\n",
       "    <tr>\n",
       "      <th>3</th>\n",
       "      <td>4</td>\n",
       "      <td>11.8010</td>\n",
       "      <td>107.937944</td>\n",
       "      <td>Lam Dong</td>\n",
       "      <td>Di Linh</td>\n",
       "      <td>Dinh Trang Thuong</td>\n",
       "      <td>607</td>\n",
       "      <td>3.0</td>\n",
       "      <td>8.0</td>\n",
       "      <td>Dinh Trang Thuong</td>\n",
       "      <td>Board of protection forest management Tan Thuong</td>\n",
       "      <td>Empty land with regenerated wood trees</td>\n",
       "      <td>Natural forest</td>\n",
       "      <td>1/13/2018 0:00</td>\n",
       "      <td>0</td>\n",
       "      <td>NaN</td>\n",
       "      <td>Not Verified</td>\n",
       "    </tr>\n",
       "    <tr>\n",
       "      <th>4</th>\n",
       "      <td>5</td>\n",
       "      <td>11.4814</td>\n",
       "      <td>108.010331</td>\n",
       "      <td>Lam Dong</td>\n",
       "      <td>Di Linh</td>\n",
       "      <td>Lien Dam</td>\n",
       "      <td>660B</td>\n",
       "      <td>7.0</td>\n",
       "      <td>43.0</td>\n",
       "      <td>Lien Dam</td>\n",
       "      <td>Group Joint Stock Company Tan Mai</td>\n",
       "      <td>Other plantation forest</td>\n",
       "      <td>Plantation forest</td>\n",
       "      <td>1/13/2018 0:00</td>\n",
       "      <td>0</td>\n",
       "      <td>NaN</td>\n",
       "      <td>Not Verified</td>\n",
       "    </tr>\n",
       "  </tbody>\n",
       "</table>\n",
       "</div>"
      ],
      "text/plain": [
       "   ID  Latitude  Longtitude  Province District            Commune  \\\n",
       "0   1   11.5169  108.272668  Lam Dong  Di Linh             Tam Bo   \n",
       "1   2   11.4464  108.062816  Lam Dong  Di Linh            Gung Re   \n",
       "2   3   11.4462  108.062886  Lam Dong  Di Linh            Gung Re   \n",
       "3   4   11.8010  107.937944  Lam Dong  Di Linh  Dinh Trang Thuong   \n",
       "4   5   11.4814  108.010331  Lam Dong  Di Linh           Lien Dam   \n",
       "\n",
       "  Sub-regional  Plot   Lot               Site  \\\n",
       "0          678   3.0  26.0             Tam Bo   \n",
       "1          695   5.0   1.0    Gung Re village   \n",
       "2          695   5.0   3.0    Gung Re village   \n",
       "3          607   3.0   8.0  Dinh Trang Thuong   \n",
       "4         660B   7.0  43.0           Lien Dam   \n",
       "\n",
       "                                        Forest owner  \\\n",
       "0                                      Trần Ngọc Thế   \n",
       "1  Forestry One Member Limited Liability Company ...   \n",
       "2  Forestry One Member Limited Liability Company ...   \n",
       "3   Board of protection forest management Tan Thuong   \n",
       "4                  Group Joint Stock Company Tan Mai   \n",
       "\n",
       "                                           Land type  \\\n",
       "0                   Medium coniferous natural forest   \n",
       "1                   Medium coniferous natural forest   \n",
       "2  Natural wood forest in the mountains with medi...   \n",
       "3             Empty land with regenerated wood trees   \n",
       "4                            Other plantation forest   \n",
       "\n",
       "  Original resources of forest            Date  Priority      Contractor  \\\n",
       "0               Natural forest   1/1/2018 0:00         2             NaN   \n",
       "1               Natural forest   1/1/2018 0:00         2  K' BRim (Gaoh)   \n",
       "2               Natural forest   1/1/2018 0:00         2  K' BRim (Gaoh)   \n",
       "3               Natural forest  1/13/2018 0:00         0             NaN   \n",
       "4            Plantation forest  1/13/2018 0:00         0             NaN   \n",
       "\n",
       "         Status  \n",
       "0      Verified  \n",
       "1      Verified  \n",
       "2      Verified  \n",
       "3  Not Verified  \n",
       "4  Not Verified  "
      ]
     },
     "execution_count": 11,
     "metadata": {},
     "output_type": "execute_result"
    }
   ],
   "source": [
    "priority_series = priority_series.replace(['Low','Medium','High'], [0,1,2])\n",
    "## Gán lại cột Priority cho Dataframe\n",
    "forest_df['Priority'] = priority_series\n",
    "\n",
    "forest_df.head(5)"
   ]
  },
  {
   "cell_type": "markdown",
   "id": "c14635c2",
   "metadata": {},
   "source": [
    "### Chuẩn hóa lại cột Status\n",
    "\n",
    "Trước khi chuẩn hóa, ta cũng cần kiểm tra các giá trị trong cột Status bao gồm những giá trị gì ?"
   ]
  },
  {
   "cell_type": "code",
   "execution_count": 12,
   "id": "8016c36d",
   "metadata": {},
   "outputs": [
    {
     "data": {
      "text/plain": [
       "array(['Verified', 'Not Verified'], dtype=object)"
      ]
     },
     "execution_count": 12,
     "metadata": {},
     "output_type": "execute_result"
    }
   ],
   "source": [
    "status_series = forest_df['Status']\n",
    "status_series.unique()"
   ]
  },
  {
   "cell_type": "markdown",
   "id": "7b1a2036",
   "metadata": {},
   "source": [
    "Có thể thấy, dữ liệu của cột Status chỉ chia thành 2 loại là 'Verifed' hoặc 'Not Verified'. Vì kiểu dữ liệu này ta sẽ chỉ đơn giản ánh xạ về dạng nhị phân là True tương ứng với Verified và False là ngược lại.\n"
   ]
  },
  {
   "cell_type": "code",
   "execution_count": 13,
   "id": "e58f4927",
   "metadata": {},
   "outputs": [
    {
     "data": {
      "text/html": [
       "<div>\n",
       "<style scoped>\n",
       "    .dataframe tbody tr th:only-of-type {\n",
       "        vertical-align: middle;\n",
       "    }\n",
       "\n",
       "    .dataframe tbody tr th {\n",
       "        vertical-align: top;\n",
       "    }\n",
       "\n",
       "    .dataframe thead th {\n",
       "        text-align: right;\n",
       "    }\n",
       "</style>\n",
       "<table border=\"1\" class=\"dataframe\">\n",
       "  <thead>\n",
       "    <tr style=\"text-align: right;\">\n",
       "      <th></th>\n",
       "      <th>ID</th>\n",
       "      <th>Latitude</th>\n",
       "      <th>Longtitude</th>\n",
       "      <th>Province</th>\n",
       "      <th>District</th>\n",
       "      <th>Commune</th>\n",
       "      <th>Sub-regional</th>\n",
       "      <th>Plot</th>\n",
       "      <th>Lot</th>\n",
       "      <th>Site</th>\n",
       "      <th>Forest owner</th>\n",
       "      <th>Land type</th>\n",
       "      <th>Original resources of forest</th>\n",
       "      <th>Date</th>\n",
       "      <th>Priority</th>\n",
       "      <th>Contractor</th>\n",
       "      <th>Status</th>\n",
       "    </tr>\n",
       "  </thead>\n",
       "  <tbody>\n",
       "    <tr>\n",
       "      <th>0</th>\n",
       "      <td>1</td>\n",
       "      <td>11.5169</td>\n",
       "      <td>108.272668</td>\n",
       "      <td>Lam Dong</td>\n",
       "      <td>Di Linh</td>\n",
       "      <td>Tam Bo</td>\n",
       "      <td>678</td>\n",
       "      <td>3.0</td>\n",
       "      <td>26.0</td>\n",
       "      <td>Tam Bo</td>\n",
       "      <td>Trần Ngọc Thế</td>\n",
       "      <td>Medium coniferous natural forest</td>\n",
       "      <td>Natural forest</td>\n",
       "      <td>1/1/2018 0:00</td>\n",
       "      <td>2</td>\n",
       "      <td>NaN</td>\n",
       "      <td>True</td>\n",
       "    </tr>\n",
       "    <tr>\n",
       "      <th>1</th>\n",
       "      <td>2</td>\n",
       "      <td>11.4464</td>\n",
       "      <td>108.062816</td>\n",
       "      <td>Lam Dong</td>\n",
       "      <td>Di Linh</td>\n",
       "      <td>Gung Re</td>\n",
       "      <td>695</td>\n",
       "      <td>5.0</td>\n",
       "      <td>1.0</td>\n",
       "      <td>Gung Re village</td>\n",
       "      <td>Forestry One Member Limited Liability Company ...</td>\n",
       "      <td>Medium coniferous natural forest</td>\n",
       "      <td>Natural forest</td>\n",
       "      <td>1/1/2018 0:00</td>\n",
       "      <td>2</td>\n",
       "      <td>K' BRim (Gaoh)</td>\n",
       "      <td>True</td>\n",
       "    </tr>\n",
       "    <tr>\n",
       "      <th>2</th>\n",
       "      <td>3</td>\n",
       "      <td>11.4462</td>\n",
       "      <td>108.062886</td>\n",
       "      <td>Lam Dong</td>\n",
       "      <td>Di Linh</td>\n",
       "      <td>Gung Re</td>\n",
       "      <td>695</td>\n",
       "      <td>5.0</td>\n",
       "      <td>3.0</td>\n",
       "      <td>Gung Re village</td>\n",
       "      <td>Forestry One Member Limited Liability Company ...</td>\n",
       "      <td>Natural wood forest in the mountains with medi...</td>\n",
       "      <td>Natural forest</td>\n",
       "      <td>1/1/2018 0:00</td>\n",
       "      <td>2</td>\n",
       "      <td>K' BRim (Gaoh)</td>\n",
       "      <td>True</td>\n",
       "    </tr>\n",
       "    <tr>\n",
       "      <th>3</th>\n",
       "      <td>4</td>\n",
       "      <td>11.8010</td>\n",
       "      <td>107.937944</td>\n",
       "      <td>Lam Dong</td>\n",
       "      <td>Di Linh</td>\n",
       "      <td>Dinh Trang Thuong</td>\n",
       "      <td>607</td>\n",
       "      <td>3.0</td>\n",
       "      <td>8.0</td>\n",
       "      <td>Dinh Trang Thuong</td>\n",
       "      <td>Board of protection forest management Tan Thuong</td>\n",
       "      <td>Empty land with regenerated wood trees</td>\n",
       "      <td>Natural forest</td>\n",
       "      <td>1/13/2018 0:00</td>\n",
       "      <td>0</td>\n",
       "      <td>NaN</td>\n",
       "      <td>False</td>\n",
       "    </tr>\n",
       "    <tr>\n",
       "      <th>4</th>\n",
       "      <td>5</td>\n",
       "      <td>11.4814</td>\n",
       "      <td>108.010331</td>\n",
       "      <td>Lam Dong</td>\n",
       "      <td>Di Linh</td>\n",
       "      <td>Lien Dam</td>\n",
       "      <td>660B</td>\n",
       "      <td>7.0</td>\n",
       "      <td>43.0</td>\n",
       "      <td>Lien Dam</td>\n",
       "      <td>Group Joint Stock Company Tan Mai</td>\n",
       "      <td>Other plantation forest</td>\n",
       "      <td>Plantation forest</td>\n",
       "      <td>1/13/2018 0:00</td>\n",
       "      <td>0</td>\n",
       "      <td>NaN</td>\n",
       "      <td>False</td>\n",
       "    </tr>\n",
       "  </tbody>\n",
       "</table>\n",
       "</div>"
      ],
      "text/plain": [
       "   ID  Latitude  Longtitude  Province District            Commune  \\\n",
       "0   1   11.5169  108.272668  Lam Dong  Di Linh             Tam Bo   \n",
       "1   2   11.4464  108.062816  Lam Dong  Di Linh            Gung Re   \n",
       "2   3   11.4462  108.062886  Lam Dong  Di Linh            Gung Re   \n",
       "3   4   11.8010  107.937944  Lam Dong  Di Linh  Dinh Trang Thuong   \n",
       "4   5   11.4814  108.010331  Lam Dong  Di Linh           Lien Dam   \n",
       "\n",
       "  Sub-regional  Plot   Lot               Site  \\\n",
       "0          678   3.0  26.0             Tam Bo   \n",
       "1          695   5.0   1.0    Gung Re village   \n",
       "2          695   5.0   3.0    Gung Re village   \n",
       "3          607   3.0   8.0  Dinh Trang Thuong   \n",
       "4         660B   7.0  43.0           Lien Dam   \n",
       "\n",
       "                                        Forest owner  \\\n",
       "0                                      Trần Ngọc Thế   \n",
       "1  Forestry One Member Limited Liability Company ...   \n",
       "2  Forestry One Member Limited Liability Company ...   \n",
       "3   Board of protection forest management Tan Thuong   \n",
       "4                  Group Joint Stock Company Tan Mai   \n",
       "\n",
       "                                           Land type  \\\n",
       "0                   Medium coniferous natural forest   \n",
       "1                   Medium coniferous natural forest   \n",
       "2  Natural wood forest in the mountains with medi...   \n",
       "3             Empty land with regenerated wood trees   \n",
       "4                            Other plantation forest   \n",
       "\n",
       "  Original resources of forest            Date  Priority      Contractor  \\\n",
       "0               Natural forest   1/1/2018 0:00         2             NaN   \n",
       "1               Natural forest   1/1/2018 0:00         2  K' BRim (Gaoh)   \n",
       "2               Natural forest   1/1/2018 0:00         2  K' BRim (Gaoh)   \n",
       "3               Natural forest  1/13/2018 0:00         0             NaN   \n",
       "4            Plantation forest  1/13/2018 0:00         0             NaN   \n",
       "\n",
       "   Status  \n",
       "0    True  \n",
       "1    True  \n",
       "2    True  \n",
       "3   False  \n",
       "4   False  "
      ]
     },
     "execution_count": 13,
     "metadata": {},
     "output_type": "execute_result"
    }
   ],
   "source": [
    "status_series = status_series.replace(['Verified','Not Verified'], [True,False])\n",
    "\n",
    "##Gán lại vào cột Status\n",
    "forest_df['Status'] = status_series\n",
    "forest_df.head(5)"
   ]
  },
  {
   "cell_type": "markdown",
   "id": "65fe353b",
   "metadata": {},
   "source": [
    "### Chuẩn hóa lại cột Date\n",
    "\n",
    "Ta sẽ chuẩn hóa cột Date về dạng Datetime, tuy nhiên rằng có một điểm rằng trong cột Date lại có bao gồm float lẫn string, vì thế ta cần tìm hiểu format của float và string này sẽ là như thế nào ?\n"
   ]
  },
  {
   "cell_type": "code",
   "execution_count": 14,
   "id": "254c052a",
   "metadata": {},
   "outputs": [
    {
     "data": {
      "text/plain": [
       "19007    NaN\n",
       "Name: Date, dtype: object"
      ]
     },
     "execution_count": 14,
     "metadata": {},
     "output_type": "execute_result"
    }
   ],
   "source": [
    "def checkDateMasking(value):\n",
    "    if(type(value) is str):\n",
    "        return True\n",
    "    else: \n",
    "        return False\n",
    "\n",
    "date_series = forest_df['Date']\n",
    "## Ta sẽ sử dụng kỹ thuật masking để kiểm tra xem format của kiểu dữ liệu string và float sẽ như thế nào\n",
    "## Masking với True là string, False là Float\n",
    "date_series_masking = date_series.apply(checkDateMasking)\n",
    "\n",
    "#Kiểm tra float\n",
    "date_series[date_series_masking == False]"
   ]
  },
  {
   "cell_type": "code",
   "execution_count": 15,
   "id": "775e42a7",
   "metadata": {},
   "outputs": [
    {
     "data": {
      "text/plain": [
       "0         1/1/2018 0:00\n",
       "1         1/1/2018 0:00\n",
       "2         1/1/2018 0:00\n",
       "3        1/13/2018 0:00\n",
       "4        1/13/2018 0:00\n",
       "              ...      \n",
       "19540    10/1/2022 0:00\n",
       "19541    9/19/2022 0:00\n",
       "19542    10/1/2022 0:00\n",
       "19543    10/1/2022 0:00\n",
       "19544    10/1/2022 0:00\n",
       "Name: Date, Length: 19543, dtype: object"
      ]
     },
     "execution_count": 15,
     "metadata": {},
     "output_type": "execute_result"
    }
   ],
   "source": [
    "#Kiểm tra string\n",
    "date_series[date_series_masking == True]"
   ]
  },
  {
   "cell_type": "markdown",
   "id": "af4ef138",
   "metadata": {},
   "source": [
    "Hmmm.. Vậy là thật ra kiểu dữ liệu dạng float ở đây chỉ là một giá trị NaN"
   ]
  },
  {
   "cell_type": "code",
   "execution_count": 16,
   "id": "27c92ed1",
   "metadata": {},
   "outputs": [
    {
     "data": {
      "text/plain": [
       "{pandas._libs.tslibs.nattype.NaTType, pandas._libs.tslibs.timestamps.Timestamp}"
      ]
     },
     "execution_count": 16,
     "metadata": {},
     "output_type": "execute_result"
    }
   ],
   "source": [
    "date_series = pd.to_datetime(date_series, format='%m/%d/%Y %H:%M')\n",
    "\n",
    "##Kiểm tra giá trị NaN có được chuẩn hóa chưa ?\n",
    "open_object_dtype(date_series)"
   ]
  },
  {
   "cell_type": "markdown",
   "id": "81145074",
   "metadata": {},
   "source": [
    "Với hai loại giá trị này thì khi đem đi so sánh đã có thể so sánh và thao tác, trong pandas thì Timestamp vẫn có thể đem đi so sánh với NaTTtype, bây giờ ta sẽ gán lại cột Date"
   ]
  },
  {
   "cell_type": "code",
   "execution_count": 17,
   "id": "f069fdf6",
   "metadata": {},
   "outputs": [],
   "source": [
    "forest_df['Date'] = date_series"
   ]
  },
  {
   "cell_type": "markdown",
   "id": "7906fa49",
   "metadata": {},
   "source": [
    "## Khám phá dữ liệu ( tiếp theo )\n",
    "\n",
    "### Với các dữ liệu dạng Numercial, có dòng nào trong cột dữ liệu bị thiếu hay không ?\n",
    "\n",
    "Ta sẽ trả về với dạng dictionary với key là tên của cột, value lần lượt là (Số giá trị thiếu, tỉ lệ phần trăm giá trị thiếu, Số giá trị unique ,min, max, median)"
   ]
  },
  {
   "cell_type": "code",
   "execution_count": 18,
   "id": "d8cbb8fc",
   "metadata": {},
   "outputs": [
    {
     "data": {
      "text/plain": [
       "{'Latitude': [0, 0.0, 14127, 11.2387, 19.231918, 19.40872],\n",
       " 'Longtitude': [0, 0.0, 13408, 104.006694, 104.518985, 108.716802],\n",
       " 'Date': [1,\n",
       "  5.116659844453541e-05,\n",
       "  348,\n",
       "  Timestamp('2015-03-30 00:00:00'),\n",
       "  Timestamp('2020-08-28 00:00:00'),\n",
       "  Timestamp('2022-10-01 00:00:00')]}"
      ]
     },
     "execution_count": 18,
     "metadata": {},
     "output_type": "execute_result"
    }
   ],
   "source": [
    "## Đầu tiên ta sẽ viết một hàm nhận vào series tương ứng và trả về array là các cột tương ứng trên\n",
    "## Ta sẽ không xét hai cột là Priority và Status vì hai cột này có các giá trị cụ thể, không nằm trong một quãng\n",
    "## Với hai giá trị trên thì ta nên dùng biểu đồ histogram nhìn sẽ dễ hơn!\n",
    "numercial_cols = ['Latitude','Longtitude','Date']\n",
    "numercial_profile = {}\n",
    "\n",
    "def getProfileNumercial(s):\n",
    "    result = []\n",
    "    ##Tính toán số giá trị bị thiếu\n",
    "    num_nan = s.isna().sum()\n",
    "    result.append(num_nan)\n",
    "    ##Tính toán tỉ lệ phần trăm giá trị bị thiếu\n",
    "    s_size = len(s)\n",
    "    missing_percentage = float(num_nan / s_size)\n",
    "    result.append(missing_percentage)\n",
    "    ##Tính toán số giá trị Unique\n",
    "    num_unique = len(s.unique())\n",
    "    result.append(num_unique)\n",
    "    ##Tính toán min,max,median\n",
    "    percentile_min = s.min()\n",
    "    percentile_median = s.median()\n",
    "    percentile_max = s.max()\n",
    "    result.append(percentile_min)\n",
    "    result.append(percentile_median)\n",
    "    result.append(percentile_max)\n",
    "    return result\n",
    "\n",
    "for col in numercial_cols:\n",
    "    numercial_profile[col] = getProfileNumercial(forest_df[col])\n",
    "    \n",
    "numercial_profile"
   ]
  },
  {
   "cell_type": "markdown",
   "id": "3e3a636f",
   "metadata": {},
   "source": [
    "### Với dữ liệu dạng Categorical, có dòng nào trong bộ dữ liệu bị thiếu hay không? Các unique value của từng cột, số lượng? ###"
   ]
  },
  {
   "cell_type": "markdown",
   "id": "9bfdbfc9",
   "metadata": {},
   "source": [
    "Để thể hiện rõ ràng nhất thì những thông số trên sẽ được đưa vào dưới dạng dataframe (unique value ta sẽ bỏ giá trị nan ra khỏi kết quả)"
   ]
  },
  {
   "cell_type": "code",
   "execution_count": 19,
   "id": "efebe88d",
   "metadata": {},
   "outputs": [],
   "source": [
    "#Các cột dữ liệu dạng phân loại (Categorical)\n",
    "categorical_cols = ['Priority', 'Status', 'Province', 'District', 'Commune', 'Sub-regional', 'Plot', 'Lot', \n",
    "                    'Site', 'Forest owner', 'Land type', 'Original resources of forest', 'Contractor']"
   ]
  },
  {
   "cell_type": "code",
   "execution_count": 20,
   "id": "7b38fca7",
   "metadata": {},
   "outputs": [],
   "source": [
    "#Hàm lấy thông tin cần thiết của các cột categorical, trả về một series để tạo df\n",
    "def getProfileCategorical(col, df):\n",
    "    result = {}\n",
    "    result['Name'] = col\n",
    "    col_df = df[col] #Cột đang thực hiện tính toán\n",
    "    #Số giá trị thiếu\n",
    "    nan = df[col].isna().sum()\n",
    "    result['Num of missing'] = nan\n",
    "    #Tỉ lệ giá trị thiếu\n",
    "    size = len(col_df)\n",
    "    result['Missing percent'] = float(nan / size)\n",
    "    #Số lượng và các giá trị khác nhau \n",
    "    unique_values = col_df.dropna().unique()\n",
    "    result['Num of unique'] = len(unique_values)\n",
    "    result['Unique values'] = unique_values\n",
    "    \n",
    "    return pd.Series(result)"
   ]
  },
  {
   "cell_type": "code",
   "execution_count": 21,
   "id": "602b218e",
   "metadata": {},
   "outputs": [
    {
     "data": {
      "text/html": [
       "<div>\n",
       "<style scoped>\n",
       "    .dataframe tbody tr th:only-of-type {\n",
       "        vertical-align: middle;\n",
       "    }\n",
       "\n",
       "    .dataframe tbody tr th {\n",
       "        vertical-align: top;\n",
       "    }\n",
       "\n",
       "    .dataframe thead th {\n",
       "        text-align: right;\n",
       "    }\n",
       "</style>\n",
       "<table border=\"1\" class=\"dataframe\">\n",
       "  <thead>\n",
       "    <tr style=\"text-align: right;\">\n",
       "      <th></th>\n",
       "      <th>Name</th>\n",
       "      <th>Num of missing</th>\n",
       "      <th>Missing percent</th>\n",
       "      <th>Num of unique</th>\n",
       "      <th>Unique values</th>\n",
       "    </tr>\n",
       "  </thead>\n",
       "  <tbody>\n",
       "    <tr>\n",
       "      <th>0</th>\n",
       "      <td>Priority</td>\n",
       "      <td>0</td>\n",
       "      <td>0.000000</td>\n",
       "      <td>3</td>\n",
       "      <td>[2, 0, 1]</td>\n",
       "    </tr>\n",
       "    <tr>\n",
       "      <th>1</th>\n",
       "      <td>Status</td>\n",
       "      <td>0</td>\n",
       "      <td>0.000000</td>\n",
       "      <td>2</td>\n",
       "      <td>[True, False]</td>\n",
       "    </tr>\n",
       "    <tr>\n",
       "      <th>2</th>\n",
       "      <td>Province</td>\n",
       "      <td>0</td>\n",
       "      <td>0.000000</td>\n",
       "      <td>2</td>\n",
       "      <td>[Lam Dong, Nghe An]</td>\n",
       "    </tr>\n",
       "    <tr>\n",
       "      <th>3</th>\n",
       "      <td>District</td>\n",
       "      <td>0</td>\n",
       "      <td>0.000000</td>\n",
       "      <td>4</td>\n",
       "      <td>[Di Linh, Tuong Duong, Lac Duong, Ky Son]</td>\n",
       "    </tr>\n",
       "    <tr>\n",
       "      <th>4</th>\n",
       "      <td>Commune</td>\n",
       "      <td>1</td>\n",
       "      <td>0.000051</td>\n",
       "      <td>35</td>\n",
       "      <td>[Tam Bo, Gung Re, Dinh Trang Thuong, Lien Dam,...</td>\n",
       "    </tr>\n",
       "    <tr>\n",
       "      <th>5</th>\n",
       "      <td>Sub-regional</td>\n",
       "      <td>1</td>\n",
       "      <td>0.000051</td>\n",
       "      <td>279</td>\n",
       "      <td>[678, 695, 607, 660B, 736, 709A, 735, 674, 716...</td>\n",
       "    </tr>\n",
       "    <tr>\n",
       "      <th>6</th>\n",
       "      <td>Plot</td>\n",
       "      <td>241</td>\n",
       "      <td>0.012331</td>\n",
       "      <td>21</td>\n",
       "      <td>[3.0, 5.0, 7.0, 6.0, 2.0, 4.0, 13.0, 11.0, 1.0...</td>\n",
       "    </tr>\n",
       "    <tr>\n",
       "      <th>7</th>\n",
       "      <td>Lot</td>\n",
       "      <td>1089</td>\n",
       "      <td>0.055720</td>\n",
       "      <td>178</td>\n",
       "      <td>[26.0, 1.0, 3.0, 8.0, 43.0, 7.0, 4.0, 27.0, 2....</td>\n",
       "    </tr>\n",
       "    <tr>\n",
       "      <th>8</th>\n",
       "      <td>Site</td>\n",
       "      <td>196</td>\n",
       "      <td>0.010029</td>\n",
       "      <td>131</td>\n",
       "      <td>[Tam Bo, Gung Re village, Dinh Trang Thuong, L...</td>\n",
       "    </tr>\n",
       "    <tr>\n",
       "      <th>9</th>\n",
       "      <td>Forest owner</td>\n",
       "      <td>5004</td>\n",
       "      <td>0.256038</td>\n",
       "      <td>492</td>\n",
       "      <td>[Trần Ngọc Thế, Forestry One Member Limited Li...</td>\n",
       "    </tr>\n",
       "    <tr>\n",
       "      <th>10</th>\n",
       "      <td>Land type</td>\n",
       "      <td>25</td>\n",
       "      <td>0.001279</td>\n",
       "      <td>50</td>\n",
       "      <td>[Medium coniferous natural forest, Natural woo...</td>\n",
       "    </tr>\n",
       "    <tr>\n",
       "      <th>11</th>\n",
       "      <td>Original resources of forest</td>\n",
       "      <td>0</td>\n",
       "      <td>0.000000</td>\n",
       "      <td>2</td>\n",
       "      <td>[Natural forest, Plantation forest]</td>\n",
       "    </tr>\n",
       "    <tr>\n",
       "      <th>12</th>\n",
       "      <td>Contractor</td>\n",
       "      <td>19300</td>\n",
       "      <td>0.987515</td>\n",
       "      <td>91</td>\n",
       "      <td>[K' BRim (Gaoh), K' Lít, K' BRªu (M«), K' Brim...</td>\n",
       "    </tr>\n",
       "  </tbody>\n",
       "</table>\n",
       "</div>"
      ],
      "text/plain": [
       "                            Name  Num of missing  Missing percent  \\\n",
       "0                       Priority               0         0.000000   \n",
       "1                         Status               0         0.000000   \n",
       "2                       Province               0         0.000000   \n",
       "3                       District               0         0.000000   \n",
       "4                        Commune               1         0.000051   \n",
       "5                   Sub-regional               1         0.000051   \n",
       "6                           Plot             241         0.012331   \n",
       "7                            Lot            1089         0.055720   \n",
       "8                           Site             196         0.010029   \n",
       "9                   Forest owner            5004         0.256038   \n",
       "10                     Land type              25         0.001279   \n",
       "11  Original resources of forest               0         0.000000   \n",
       "12                    Contractor           19300         0.987515   \n",
       "\n",
       "    Num of unique                                      Unique values  \n",
       "0               3                                          [2, 0, 1]  \n",
       "1               2                                      [True, False]  \n",
       "2               2                                [Lam Dong, Nghe An]  \n",
       "3               4          [Di Linh, Tuong Duong, Lac Duong, Ky Son]  \n",
       "4              35  [Tam Bo, Gung Re, Dinh Trang Thuong, Lien Dam,...  \n",
       "5             279  [678, 695, 607, 660B, 736, 709A, 735, 674, 716...  \n",
       "6              21  [3.0, 5.0, 7.0, 6.0, 2.0, 4.0, 13.0, 11.0, 1.0...  \n",
       "7             178  [26.0, 1.0, 3.0, 8.0, 43.0, 7.0, 4.0, 27.0, 2....  \n",
       "8             131  [Tam Bo, Gung Re village, Dinh Trang Thuong, L...  \n",
       "9             492  [Trần Ngọc Thế, Forestry One Member Limited Li...  \n",
       "10             50  [Medium coniferous natural forest, Natural woo...  \n",
       "11              2                [Natural forest, Plantation forest]  \n",
       "12             91  [K' BRim (Gaoh), K' Lít, K' BRªu (M«), K' Brim...  "
      ]
     },
     "execution_count": 21,
     "metadata": {},
     "output_type": "execute_result"
    }
   ],
   "source": [
    "lst = [] #Danh sách series tạo df\n",
    "\n",
    "for col in categorical_cols:\n",
    "    lst.append(getProfileCategorical(col, forest_df))\n",
    "               \n",
    "categorical_df = pd.DataFrame(lst)\n",
    "\n",
    "categorical_df"
   ]
  },
  {
   "cell_type": "markdown",
   "id": "dab991c5",
   "metadata": {},
   "source": [
    "### ĐẶT CÂU HỎI VÀ TRẢ LỜI ###"
   ]
  },
  {
   "cell_type": "markdown",
   "id": "3a0a97d3",
   "metadata": {},
   "source": [
    "Trình bày từng câu hỏi của nhóm, nếu rõ ý nghĩa, lợi ích khi trả lời được câu hỏi đó\n",
    "\n",
    "- Sự phân bố của các loại rừng trên toàn đất nước Việt Nam như thế nào ? Có biểu đồ nào có thể nào trực quan hóa sự phân bố này hay không? Mục đích là để nắm rõ tình hình phân bố trải dài từ Bắc xuống Nam của các loại rừng hiện nay.\n",
    "- Các tỉnh thành có số lượng rừng như thế nào ? Các tỉnh thành có số lượng rừng nhiều nhất ? Mục đích là để xem xét rằng rừng hiện tại đang được kiểm soát phần lớn ở đâu, để mà có thể tăng cường mức độ quản lý để bảo tồn tài nguyên.\n",
    "- Các loại đất của rừng (Landtype) được phân bố như thế nào ? Với mỗi loạt đất thì ở vùng nào có số lượng đất này cao nhất? Liệt kê top 5 với mỗi loại rừng\n",
    "- Loaị rừng nào đang có *số lượng* được đặt độ ưu tiên (priority) cao nhất ? Top 5 ?  Mục đích rằng để khảo sát rằng để khảo sát loại rừng nào với đang cần phải đặt ưu tiên cho sự chăm sóc và kiểm soát ?"
   ]
  },
  {
   "cell_type": "markdown",
   "id": "718132d2",
   "metadata": {},
   "source": [
    "**Câu 3:** Các loại đất của rừng (Landtype) được phân bố như thế nào theo 2 tỉnh? Cho biết ở mỗi tỉnh loại đất nào chiếm ưu thế từ đó suy ra, giải thích đặc điểm rừng của từng tỉnh"
   ]
  },
  {
   "cell_type": "markdown",
   "id": "0996411f",
   "metadata": {},
   "source": [
    "***Lâm Đồng***"
   ]
  },
  {
   "cell_type": "code",
   "execution_count": 22,
   "id": "f639deae",
   "metadata": {},
   "outputs": [],
   "source": [
    "#Lấy ra df ứng với tỉnh Lâm Đồng\n",
    "ld_df = forest_df[forest_df['Province'] == 'Lam Dong']"
   ]
  },
  {
   "cell_type": "code",
   "execution_count": 23,
   "id": "697bb33e",
   "metadata": {},
   "outputs": [],
   "source": [
    "#Lấy cột Land type để đếm số lượng giá trị và xử lý\n",
    "ld_land = ld_df['Land type'].value_counts()\n",
    "\n",
    "#Lấy loại đất có số lượng > 300\n",
    "ld_lst = ld_land[ld_land.values > 140]\n",
    "\n",
    "#Gom nhóm những loại đất có số lượng <= 300 thành Others\n",
    "ld_value = sum(ld_land[ld_land.values <= 140])\n",
    "label = 'Others'\n",
    "\n",
    "# 2 danh sách để vẽ pie chart\n",
    "ld_final_value = np.append(ld_lst.values, ld_value)\n",
    "ld_final_label = np.array(ld_lst.index)\n",
    "ld_final_label = np.append(ld_final_label, label)"
   ]
  },
  {
   "cell_type": "code",
   "execution_count": 24,
   "id": "f6df9aa1",
   "metadata": {},
   "outputs": [
    {
     "data": {
      "image/png": "[encoded data removed]",
      "text/plain": [
       "<Figure size 1000x1000 with 1 Axes>"
      ]
     },
     "metadata": {},
     "output_type": "display_data"
    }
   ],
   "source": [
    "#Vẽ biểu đồ tròn\n",
    "plt.figure(figsize = (10,10))\n",
    "\n",
    "plt.pie(ld_final_value, autopct='%1.0f%%')\n",
    "plt.legend(labels = ld_final_label, loc = 'best', fontsize = 6)\n",
    "plt.show()"
   ]
  },
  {
   "cell_type": "markdown",
   "id": "506f462d",
   "metadata": {},
   "source": [
    "**Nhận xét**: Lâm Đồng chủ yếu tập trung 2 loại đất rừng chính là Đất rừng gỗ tự nhiên núi đất lá kim trung bình, Đất rừng gỗ tự nhiên lá kim nghèo.\\\n",
    "**Giải thích**: Rừng lá kim là một hệ sinh thái đặc trưng của các vĩ độ khí hậu ôn đới, nơi có mùa hè ấm áp, mùa đông lạnh và lượng mưa đủ để giữ cho cây lá kim. Với diện tích khoảng 200.000 ha không lạ gì khi phân bố tập trung ở Tây Nguyên và một số tỉnh phía Bắc với khí hậu vô cùng thích hợp, cụ thể ở trong dữ liệu này là tập trung ở Lâm Đồng. Đất rừng ở đây thường có tầng nông, khô, chua và xấu. Rừng có kết cấu 2 tầng rõ, tầng trên chủ yếu là các loài thông, tầng dưới có một số loài cây họ dẻ. Các loài thường gặp: Thông Nhựa, Thông Ba lá, Thông Mã vĩ."
   ]
  },
  {
   "cell_type": "markdown",
   "id": "7e5e275a",
   "metadata": {},
   "source": [
    "***Nghệ An***"
   ]
  },
  {
   "cell_type": "code",
   "execution_count": 25,
   "id": "ceb40047",
   "metadata": {},
   "outputs": [],
   "source": [
    "#Lấy ra df ứng với tỉnh Nghệ An\n",
    "na_df = forest_df[forest_df['Province'] == 'Nghe An']"
   ]
  },
  {
   "cell_type": "code",
   "execution_count": 26,
   "id": "ab1c3fc2",
   "metadata": {},
   "outputs": [],
   "source": [
    "#Lấy cột Land type để đếm số lượng giá trị và xử lý\n",
    "na_land = na_df['Land type'].value_counts()\n",
    "\n",
    "#Lấy loại đất có số lượng > 300\n",
    "na_lst = na_land[na_land.values > 400]\n",
    "\n",
    "#Gom nhóm những loại đất có số lượng <= 300 thành Others\n",
    "na_value = sum(na_land[na_land.values <= 400])\n",
    "label = 'Others'\n",
    "\n",
    "# 2 danh sách để vẽ pie chart\n",
    "na_final_value = np.append(na_lst.values, na_value)\n",
    "na_final_label = np.array(na_lst.index)\n",
    "na_final_label = np.append(na_final_label, label)"
   ]
  },
  {
   "cell_type": "code",
   "execution_count": 27,
   "id": "a42c3f3c",
   "metadata": {},
   "outputs": [
    {
     "data": {
      "image/png": "[encoded data removed]",
      "text/plain": [
       "<Figure size 1000x1000 with 1 Axes>"
      ]
     },
     "metadata": {},
     "output_type": "display_data"
    }
   ],
   "source": [
    "#Vẽ biểu đồ tròn\n",
    "plt.figure(figsize = (10,10))\n",
    "\n",
    "plt.pie(na_final_value, autopct='%1.0f%%')\n",
    "plt.legend(labels = na_final_label, loc = 'best', fontsize = 6)\n",
    "plt.show()"
   ]
  },
  {
   "cell_type": "markdown",
   "id": "4da82b7d",
   "metadata": {},
   "source": [
    "**Nhận xét**: Nghệ An tập trung chủ yếu 2 loại đất rừng chính tương đương nhau là Rừng hỗn giao giàu tự nhiên trên núi đất, Diện tích có cây gỗ tái sinh núi đất. Ở đây có điểm đáng lưu ý là vùng diện tích núi đất chiếm tỷ lệ khá cao, hơn hẳn các loại khác.\\\n",
    "**Giải thích**: Theo như tìm hiểu Nghệ An có diện tích rừng và đất lâm nghiệp lớn nhất cả nước. Tuy thế tỉnh cũng bao gồm nhiều đất trống có cây gỗ tái sinh chính là đất chưa có rừng quy hoạch cho mục đích lâm nghiệp, thực vật che phủ gồm cây bụi, trảng cỏ, lau lách và cây gỗ tái sinh có chiều cao 0,5 m trở lên đạt tối thiểu 500 cây/ha. Cùng với vấn nạn chặt phá, khai thác rừng trái phép cùng với đó là cháy rừng đã làm tăng diện tích đất núi trống đáng kể."
   ]
  },
  {
   "cell_type": "markdown",
   "id": "12167dce",
   "metadata": {},
   "source": [
    "***Lợi ích câu hỏi***: Qua việc xác định được các tỷ lệ các loại đất, loại rừng chiếm ưu thế của mỗi tỉnh chúng ta có thể xác định được chính xác đặc điểm của từng khu vực từ đó có thêm thông tin cải tạo, nâng cấp hệ sinh thái rừng phù hợp ở đây, giúp phục vụ cho nhiều mục đích khác nhau, từ phòng chống thiên tai, phát triển du lịch sinh thái, phục vụ kinh tế, ngành lâm nghiệp, công nghiệp, ... "
   ]
  },
  {
   "cell_type": "code",
   "execution_count": null,
   "id": "fd27aed4",
   "metadata": {},
   "outputs": [],
   "source": []
  }
 ],
 "metadata": {
  "kernelspec": {
   "display_name": "Python 3 (ipykernel)",
   "language": "python",
   "name": "python3"
  },
  "language_info": {
   "codemirror_mode": {
    "name": "ipython",
    "version": 3
   },
   "file_extension": ".py",
   "mimetype": "text/x-python",
   "name": "python",
   "nbconvert_exporter": "python",
   "pygments_lexer": "ipython3",
   "version": "3.8.13"
  }
 },
 "nbformat": 4,
 "nbformat_minor": 5
}
